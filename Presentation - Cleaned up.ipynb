{
 "cells": [
  {
   "cell_type": "markdown",
   "id": "2cbdc6b7",
   "metadata": {
    "slideshow": {
     "slide_type": "slide"
    }
   },
   "source": []
  },
  {
   "cell_type": "markdown",
   "id": "3069995f",
   "metadata": {},
   "source": [
    "$\\left[\\begin{matrix}\\sin{\\left(\\alpha \\right)} \\cos{\\left(\\beta \\right)} & \\frac{\\cos{\\left(\\alpha \\right)}}{R + r \\cos{\\left(\\beta \\right)}} & - \\frac{\\sin{\\left(\\alpha \\right)} \\sin{\\left(\\beta \\right)}}{r}\\\\\\cos{\\left(\\alpha \\right)} \\cos{\\left(\\beta \\right)} & - \\frac{\\sin{\\left(\\alpha \\right)}}{R + r \\cos{\\left(\\beta \\right)}} & - \\frac{\\sin{\\left(\\beta \\right)} \\cos{\\left(\\alpha \\right)}}{r}\\\\\\sin{\\left(\\beta \\right)} & 0 & \\frac{\\cos{\\left(\\beta \\right)}}{r}\\end{matrix}\\right]$\n"
   ]
  },
  {
   "cell_type": "markdown",
   "id": "371cba9d",
   "metadata": {
    "slideshow": {
     "slide_type": "slide"
    }
   },
   "source": [
    "# Importe\n"
   ]
  },
  {
   "cell_type": "code",
   "execution_count": 267,
   "id": "8d11fa3c",
   "metadata": {
    "slideshow": {
     "slide_type": "fragment"
    }
   },
   "outputs": [],
   "source": [
    "import numpy as np\n",
    "import matplotlib.pyplot as plt\n",
    "import scipy\n",
    "import sympy as sp\n",
    "from IPython.display import display, Math\n",
    "from sympy.abc import x, y, z, r, phi, alpha, R, theta, Q, a, rho"
   ]
  },
  {
   "cell_type": "code",
   "execution_count": 533,
   "id": "60beda71",
   "metadata": {},
   "outputs": [
    {
     "data": {
      "text/latex": [
       "$\\displaystyle r^{2} \\sin^{2}{\\left(\\phi \\right)} \\sin^{3}{\\left(\\theta \\right)} + r^{2} \\sin^{2}{\\left(\\phi \\right)} \\sin{\\left(\\theta \\right)} \\cos^{2}{\\left(\\theta \\right)} + r^{2} \\sin^{3}{\\left(\\theta \\right)} \\cos^{2}{\\left(\\phi \\right)} + r^{2} \\sin{\\left(\\theta \\right)} \\cos^{2}{\\left(\\phi \\right)} \\cos^{2}{\\left(\\theta \\right)}$"
      ],
      "text/plain": [
       "r**2*sin(phi)**2*sin(theta)**3 + r**2*sin(phi)**2*sin(theta)*cos(theta)**2 + r**2*sin(theta)**3*cos(phi)**2 + r**2*sin(theta)*cos(phi)**2*cos(theta)**2"
      ]
     },
     "metadata": {},
     "output_type": "display_data"
    },
    {
     "data": {
      "text/latex": [
       "$\\displaystyle r^{2} \\sin{\\left(\\theta \\right)}$"
      ],
      "text/plain": [
       "r**2*sin(theta)"
      ]
     },
     "metadata": {},
     "output_type": "display_data"
    },
    {
     "name": "stdout",
     "output_type": "stream",
     "text": [
      " 2       \n",
      "r ⋅sin(θ)\n"
     ]
    }
   ],
   "source": [
    "rc = sp.Symbol('r_c', positive=True)\n",
    "R = sp.Symbol('R', positive=True, real=True)\n",
    "r = sp.Symbol('r', positive=True, real=True)\n",
    "\n",
    "dq = sp.Symbol('rho')\n",
    "e0 = sp.Symbol('epsilon_0')\n",
    "\n",
    "x = r*sp.sin(theta)*sp.cos(phi)\n",
    "y = r*sp.sin(theta)*sp.sin(phi)\n",
    "z = sp.cos(theta)*r\n",
    "\n",
    "r_cart = sp.Matrix([x, y, z])\n",
    "r_polar = sp.Matrix([r, theta, phi])\n",
    "\n",
    "J = r_cart.jacobian(r_polar)\n",
    "\n",
    "# Calculate \n",
    "det = J.det().simplify()\n",
    "\n",
    "# Simplify result\n",
    "display(J.det())\n",
    "display(J.det().simplify())\n",
    "\n",
    "sp.pprint(det)"
   ]
  },
  {
   "cell_type": "code",
   "execution_count": 534,
   "id": "17b394d4",
   "metadata": {},
   "outputs": [
    {
     "name": "stdout",
     "output_type": "stream",
     "text": [
      "⎡-r⋅sin(θ)⋅cos(φ)⎤\n",
      "⎢                ⎥\n",
      "⎢-r⋅sin(φ)⋅sin(θ)⎥\n",
      "⎢                ⎥\n",
      "⎣-r⋅cos(θ) + r_c ⎦\n"
     ]
    }
   ],
   "source": [
    "\n",
    "\n",
    "r_pos = r_cart\n",
    "\n",
    "\n",
    "r_charge = r_cart.subs([(theta,0), (phi,0),(r,rc)])\n",
    "\n",
    "r_rel = r_charge-r_pos\n",
    "sp.pprint(r_rel)\n",
    "d = r_rel.transpose()*r_rel"
   ]
  },
  {
   "cell_type": "code",
   "execution_count": 535,
   "id": "a73292d0",
   "metadata": {},
   "outputs": [
    {
     "name": "stdout",
     "output_type": "stream",
     "text": [
      "   ______________________________________________________________\n",
      "  ╱  2    2       2       2    2       2                       2 \n",
      "╲╱  r ⋅sin (φ)⋅sin (θ) + r ⋅sin (θ)⋅cos (φ) + (-r⋅cos(θ) + r_c)  \n",
      "   ______________________________________________________________\n",
      "  ╱  2    2       2       2    2       2                       2 \n",
      "╲╱  r ⋅sin (φ)⋅sin (θ) + r ⋅sin (θ)⋅cos (φ) + (-r⋅cos(θ) + r_c)  \n"
     ]
    },
    {
     "data": {
      "text/latex": [
       "$\\displaystyle \\sqrt{r^{2} - 2 r r_{c} \\cos{\\left(\\theta \\right)} + r_{c}^{2}}$"
      ],
      "text/plain": [
       "sqrt(r**2 - 2*r*r_c*cos(theta) + r_c**2)"
      ]
     },
     "metadata": {},
     "output_type": "display_data"
    }
   ],
   "source": [
    "\n",
    "d_long = sp.sqrt(d[0])\n",
    "sp.pprint(d_long)\n",
    "sp.pprint(d_long)\n",
    "d_sol = d_long.simplify()\n",
    "display(d_sol)"
   ]
  },
  {
   "cell_type": "code",
   "execution_count": 536,
   "id": "abc7c5f5",
   "metadata": {},
   "outputs": [],
   "source": [
    "dphi=1/(4*sp.pi*e0*d_sol)*det*dq"
   ]
  },
  {
   "cell_type": "code",
   "execution_count": 550,
   "id": "a7383a16",
   "metadata": {
    "scrolled": true
   },
   "outputs": [
    {
     "data": {
      "text/latex": [
       "$\\displaystyle \\frac{R \\rho \\left(- \\sqrt{R^{2} - 2 R r_{c} + r_{c}^{2}} + \\sqrt{R^{2} + 2 R r_{c} + r_{c}^{2}}\\right)}{2 \\epsilon_{0} r_{c}}$"
      ],
      "text/plain": [
       "R*rho*(-sqrt(R**2 - 2*R*r_c + r_c**2) + sqrt(R**2 + 2*R*r_c + r_c**2))/(2*epsilon_0*r_c)"
      ]
     },
     "metadata": {},
     "output_type": "display_data"
    },
    {
     "name": "stdout",
     "output_type": "stream",
     "text": [
      "R⋅ρ\n",
      "───\n",
      " ε₀\n",
      "  2   \n",
      " R ⋅ρ \n",
      "──────\n",
      "ε₀⋅r_c\n"
     ]
    }
   ],
   "source": [
    "sym_F = sp.integrals.Integral(dphi, (theta, 0, sp.pi), (phi, 0, 2*sp.pi))\n",
    "\n",
    "F = sym_F.doit()\n",
    "\n",
    "rel = sp.Symbol('r_{el}')\n",
    "pot = F.subs([(r,R)]).expand().simplify()\n",
    "\n",
    "display(sp.factor(F.subs([(r,R)])))\n",
    "\n",
    "sub1 = sp.sqrt(R**2-2*R*rc+rc**2)\n",
    "sub2 = sp.sqrt(R**2+2*R*rc+rc**2)\n",
    "\n",
    "rel = rc-R\n",
    "\n",
    "res_pot1 = pot.subs([(sub1,(-rel)), (sub2,(2*R+rel))]).simplify()\n",
    "res_pot2 = pot.subs([(sub1,(rel)), (sub2,(2*R+rel))]).simplify()\n",
    "\n",
    "\n",
    "sp.pprint(res_pot1)\n",
    "sp.pprint(res_pot2)"
   ]
  },
  {
   "cell_type": "code",
   "execution_count": 538,
   "id": "e7a0e3b2",
   "metadata": {},
   "outputs": [],
   "source": [
    "rho = Q/(4*sp.pi*R**2)"
   ]
  },
  {
   "cell_type": "code",
   "execution_count": 509,
   "id": "f1b7be37",
   "metadata": {},
   "outputs": [
    {
     "ename": "AttributeError",
     "evalue": "module 'sympy' has no attribute 'abs'",
     "output_type": "error",
     "traceback": [
      "\u001b[1;31m---------------------------------------------------------------------------\u001b[0m",
      "\u001b[1;31mAttributeError\u001b[0m                            Traceback (most recent call last)",
      "\u001b[1;32m<ipython-input-509-78888d7658f1>\u001b[0m in \u001b[0;36m<module>\u001b[1;34m\u001b[0m\n\u001b[1;32m----> 1\u001b[1;33m \u001b[0mres_pot\u001b[0m\u001b[1;33m.\u001b[0m\u001b[0msubs\u001b[0m\u001b[1;33m(\u001b[0m\u001b[1;33m[\u001b[0m\u001b[0msp\u001b[0m\u001b[1;33m.\u001b[0m\u001b[0mabs\u001b[0m\u001b[1;33m(\u001b[0m\u001b[0msp\u001b[0m\u001b[1;33m.\u001b[0m\u001b[0msqrt\u001b[0m\u001b[1;33m(\u001b[0m\u001b[1;33m(\u001b[0m\u001b[0mR\u001b[0m\u001b[1;33m-\u001b[0m\u001b[0mrc\u001b[0m\u001b[1;33m)\u001b[0m\u001b[1;33m**\u001b[0m\u001b[1;36m2\u001b[0m\u001b[1;33m)\u001b[0m\u001b[1;33m,\u001b[0m\u001b[0mrc\u001b[0m\u001b[1;33m-\u001b[0m\u001b[0mR\u001b[0m\u001b[1;33m)\u001b[0m\u001b[1;33m,\u001b[0m \u001b[1;33m(\u001b[0m\u001b[0msp\u001b[0m\u001b[1;33m.\u001b[0m\u001b[0msqrt\u001b[0m\u001b[1;33m(\u001b[0m\u001b[1;33m(\u001b[0m\u001b[0mR\u001b[0m\u001b[1;33m+\u001b[0m\u001b[0mrc\u001b[0m\u001b[1;33m)\u001b[0m\u001b[1;33m**\u001b[0m\u001b[1;36m2\u001b[0m\u001b[1;33m)\u001b[0m\u001b[1;33m,\u001b[0m\u001b[1;33m(\u001b[0m\u001b[0mR\u001b[0m\u001b[1;33m+\u001b[0m\u001b[0mrc\u001b[0m\u001b[1;33m)\u001b[0m\u001b[1;33m)\u001b[0m\u001b[1;33m]\u001b[0m\u001b[1;33m)\u001b[0m\u001b[1;33m.\u001b[0m\u001b[0msimplify\u001b[0m\u001b[1;33m(\u001b[0m\u001b[1;33m)\u001b[0m\u001b[1;33m\u001b[0m\u001b[1;33m\u001b[0m\u001b[0m\n\u001b[0m\u001b[0;32m      2\u001b[0m \u001b[0mres_pot\u001b[0m\u001b[1;33m.\u001b[0m\u001b[0msubs\u001b[0m\u001b[1;33m(\u001b[0m\u001b[1;33m[\u001b[0m\u001b[1;33m(\u001b[0m\u001b[0msp\u001b[0m\u001b[1;33m.\u001b[0m\u001b[0msqrt\u001b[0m\u001b[1;33m(\u001b[0m\u001b[1;33m(\u001b[0m\u001b[0mR\u001b[0m\u001b[1;33m-\u001b[0m\u001b[0mrc\u001b[0m\u001b[1;33m)\u001b[0m\u001b[1;33m**\u001b[0m\u001b[1;36m2\u001b[0m\u001b[1;33m)\u001b[0m\u001b[1;33m,\u001b[0m\u001b[0mR\u001b[0m\u001b[1;33m-\u001b[0m\u001b[0mrc\u001b[0m\u001b[1;33m)\u001b[0m\u001b[1;33m,\u001b[0m \u001b[1;33m(\u001b[0m\u001b[0msp\u001b[0m\u001b[1;33m.\u001b[0m\u001b[0msqrt\u001b[0m\u001b[1;33m(\u001b[0m\u001b[1;33m(\u001b[0m\u001b[0mR\u001b[0m\u001b[1;33m+\u001b[0m\u001b[0mrc\u001b[0m\u001b[1;33m)\u001b[0m\u001b[1;33m**\u001b[0m\u001b[1;36m2\u001b[0m\u001b[1;33m)\u001b[0m\u001b[1;33m,\u001b[0m\u001b[1;33m(\u001b[0m\u001b[0mR\u001b[0m\u001b[1;33m+\u001b[0m\u001b[0mrc\u001b[0m\u001b[1;33m)\u001b[0m\u001b[1;33m)\u001b[0m\u001b[1;33m]\u001b[0m\u001b[1;33m)\u001b[0m\u001b[1;33m.\u001b[0m\u001b[0msimplify\u001b[0m\u001b[1;33m(\u001b[0m\u001b[1;33m)\u001b[0m\u001b[1;33m\u001b[0m\u001b[1;33m\u001b[0m\u001b[0m\n",
      "\u001b[1;31mAttributeError\u001b[0m: module 'sympy' has no attribute 'abs'"
     ]
    }
   ],
   "source": []
  },
  {
   "cell_type": "code",
   "execution_count": 531,
   "id": "d82b2643",
   "metadata": {},
   "outputs": [
    {
     "data": {
      "image/png": "[encoded data removed]",
      "text/plain": [
       "<Figure size 432x288 with 1 Axes>"
      ]
     },
     "metadata": {
      "needs_background": "light"
     },
     "output_type": "display_data"
    }
   ],
   "source": [
    "# Matplotlib\n",
    "values = [(dq, rho),(e0,1),(R,1),(Q,1)]\n",
    "phi_plot1 = res_pot1.subs(values)\n",
    "phi_plot2 = res_pot2.subs(values)\n",
    "\n",
    "phi_plot = lambda r: phi_plot1 if r < 1 else phi_plot2.subs(rc, r)\n",
    "\n",
    "\n",
    "rc_vals = np.linspace(0,20,50)\n",
    "\n",
    "pot_std = pot/Q\n",
    "\n",
    "pot_vals = [phi_plot(r) for r in rc_vals]\n",
    "\n",
    "ax = plt.plot(rc_vals, pot_vals)"
   ]
  }
 ],
 "metadata": {
  "kernelspec": {
   "display_name": "Python 3",
   "language": "python",
   "name": "python3"
  },
  "language_info": {
   "codemirror_mode": {
    "name": "ipython",
    "version": 3
   },
   "file_extension": ".py",
   "mimetype": "text/x-python",
   "name": "python",
   "nbconvert_exporter": "python",
   "pygments_lexer": "ipython3",
   "version": "3.8.8"
  }
 },
 "nbformat": 4,
 "nbformat_minor": 5
}
