{
 "cells": [
  {
   "cell_type": "code",
   "execution_count": 18,
   "id": "db246b95",
   "metadata": {},
   "outputs": [],
   "source": [
    "%matplotlib widget\n",
    "\n",
    "import numpy as np                       # Numpy: \n",
    "from numpy import linspace\n",
    "import matplotlib.pyplot as plt\n",
    "import scipy\n",
    "import sympy as sp\n",
    "from sympy import matrices\n",
    "from sympy.abc import x, y, z, r, phi, alpha, R\n",
    "from sympy.vector import vector\n",
    "\n",
    "from IPython.display import display, Math\n",
    "import scipy.integrate as integrate\n",
    "import scipy.special as special\n",
    "from math import sin, cos, sqrt\n",
    "import math"
   ]
  },
  {
   "cell_type": "markdown",
   "id": "652db659",
   "metadata": {
    "slideshow": {
     "slide_type": "subslide"
    }
   },
   "source": [
    "## Aufbau\n",
    "\n",
    "0. Packages\n",
    "\n",
    "1. Themenvorstellung mit Kugel als Einstieg\n",
    "        Ringladung/Kugel visualisieren\n",
    "        Symbolische Lösung Kugelschale\n",
    "        \n",
    "2. Vorstellung numerische Integration\n",
    "    1. Methodik\n",
    "    2. Einfaches Beispiel\n",
    "3. Lösung Ring\n",
    "    1. 2D\n",
    "    2. 3D\n",
    "\n"
   ]
  },
  {
   "cell_type": "markdown",
   "id": "3254567b",
   "metadata": {
    "slideshow": {
     "slide_type": "fragment"
    }
   },
   "source": [
    "4. Test"
   ]
  },
  {
   "cell_type": "code",
   "execution_count": null,
   "id": "444de0ff",
   "metadata": {
    "slideshow": {
     "slide_type": "fragment"
    }
   },
   "outputs": [],
   "source": []
  },
  {
   "cell_type": "code",
   "execution_count": 19,
   "id": "dbc98dd0",
   "metadata": {
    "slideshow": {
     "slide_type": "fragment"
    }
   },
   "outputs": [],
   "source": [
    "# Format and show formula\n",
    "def disp(formula):\n",
    "    latex = sp.latex(formula)\n",
    "    display(Math(latex))"
   ]
  },
  {
   "cell_type": "code",
   "execution_count": null,
   "id": "03c7ca98",
   "metadata": {},
   "outputs": [],
   "source": []
  },
  {
   "cell_type": "code",
   "execution_count": 20,
   "id": "c56b2e41",
   "metadata": {
    "slideshow": {
     "slide_type": "fragment"
    }
   },
   "outputs": [],
   "source": [
    "\n",
    "\n",
    "R = 2\n",
    "\n",
    "def pot_dq(psi,r):\n",
    "    dist = R*math.sqrt(((R*sin(psi))**2+(R*cos(psi)-r)**2))\n",
    "    if dist != 0:\n",
    "        return 1/dist\n",
    "    else:\n",
    "        return 0\n",
    "\n",
    "        \n",
    "        \n",
    "\n",
    "pot_of_r = lambda r: integrate.quad(lambda psi: pot_dq(psi,r), 0, 2*math.pi)[0]\n",
    "\n",
    "pot_rel_R = lambda r: (pot_of_r(r))-pot_of_r(R)\n",
    "\n",
    "\n"
   ]
  },
  {
   "cell_type": "code",
   "execution_count": null,
   "id": "548e3f47",
   "metadata": {},
   "outputs": [],
   "source": []
  },
  {
   "cell_type": "code",
   "execution_count": null,
   "id": "9496882e",
   "metadata": {
    "slideshow": {
     "slide_type": "-"
    }
   },
   "outputs": [],
   "source": []
  },
  {
   "cell_type": "code",
   "execution_count": 21,
   "id": "36d58c71",
   "metadata": {
    "slideshow": {
     "slide_type": "slide"
    }
   },
   "outputs": [
    {
     "data": {
      "application/vnd.jupyter.widget-view+json": {
       "model_id": "c3455a1faf824a60bfce9eea598aae95",
       "version_major": 2,
       "version_minor": 0
      },
      "text/plain": [
       "Canvas(toolbar=Toolbar(toolitems=[('Home', 'Reset original view', 'home', 'home'), ('Back', 'Back to previous …"
      ]
     },
     "metadata": {},
     "output_type": "display_data"
    },
    {
     "name": "stderr",
     "output_type": "stream",
     "text": [
      "<ipython-input-20-05dcb0047a66>:13: IntegrationWarning: The maximum number of subdivisions (50) has been achieved.\n",
      "  If increasing the limit yields no improvement it is advised to analyze \n",
      "  the integrand in order to determine the difficulties.  If the position of a \n",
      "  local difficulty can be determined (singularity, discontinuity) one will \n",
      "  probably gain from splitting up the interval and calling the integrator \n",
      "  on the subranges.  Perhaps a special-purpose integrator should be used.\n",
      "  pot_of_r = lambda r: integrate.quad(lambda psi: pot_dq(psi,r), 0, 2*math.pi)[0]\n"
     ]
    }
   ],
   "source": [
    "fig = plt.figure()\n",
    "angle_vals = linspace(0, 2*math.pi, 50)\n",
    "\n",
    "r_vals = linspace(0,20,100)\n",
    "\n",
    "[angle, r] = np.meshgrid(angle_vals, r_vals)\n",
    "\n",
    "vfunc = np.vectorize(pot_rel_R)\n",
    "z_vals = vfunc(r_vals)\n",
    "\n",
    "z_t = np.ones(angle.shape).transpose()*z_vals.transpose()\n",
    "z = z_t.transpose()\n",
    "\n",
    "X = r * np.cos(angle)\n",
    "Y = r * np.sin(angle)\n",
    "\n",
    "plt.arrow(0,0,1,1)\n",
    "#ax = plt.contourf(X, Y, z, 100)\n",
    "ax = plt.contour(X, Y, z, 10)\n",
    "\n",
    "plt.show()\n"
   ]
  },
  {
   "cell_type": "code",
   "execution_count": 22,
   "id": "94fb1700",
   "metadata": {
    "slideshow": {
     "slide_type": "slide"
    }
   },
   "outputs": [
    {
     "data": {
      "application/vnd.jupyter.widget-view+json": {
       "model_id": "17b8e5f918374f2d80fa764f64b6611c",
       "version_major": 2,
       "version_minor": 0
      },
      "text/plain": [
       "Canvas(toolbar=Toolbar(toolitems=[('Home', 'Reset original view', 'home', 'home'), ('Back', 'Back to previous …"
      ]
     },
     "metadata": {},
     "output_type": "display_data"
    }
   ],
   "source": [
    "from matplotlib import ticker\n",
    "fig = plt.figure()\n",
    "ax = fig.add_subplot(111, projection=\"3d\")\n",
    "ax.plot_surface(X, Y, z, cmap=\"autumn_r\", lw=0.5, rstride=1, cstride=1, alpha=0.2)\n",
    "ax.contour(X, Y, z, 5, cmap=\"autumn_r\", linestyles=\"solid\", alpha=.3)\n",
    "ax.contour(X, Y, z, 5, colors=\"k\", linestyles=\"solid\", alpha=0.2)\n",
    "ax.contour(X, Y, z, 5, zdir='z', offset=ax.get_zlim()[0], cmap=\"autumn_r\", linestyles=\"solid\")\n",
    "plt.show()"
   ]
  },
  {
   "cell_type": "code",
   "execution_count": 23,
   "id": "a1832368",
   "metadata": {
    "slideshow": {
     "slide_type": "subslide"
    }
   },
   "outputs": [
    {
     "data": {
      "application/vnd.jupyter.widget-view+json": {
       "model_id": "9d15703ecc204b4e9c4f11ddd731e4e7",
       "version_major": 2,
       "version_minor": 0
      },
      "text/plain": [
       "Canvas(toolbar=Toolbar(toolitems=[('Home', 'Reset original view', 'home', 'home'), ('Back', 'Back to previous …"
      ]
     },
     "metadata": {},
     "output_type": "display_data"
    }
   ],
   "source": [
    "fig = plt.figure()\n",
    "ax = fig.add_subplot(111, projection=\"3d\")\n",
    "ax.plot_surface(X, Y, z, cmap=\"autumn_r\", lw=0.5, rstride=1, cstride=1, alpha=0.2)\n",
    "ax.contour(X, Y, z, 10, cmap=\"autumn_r\", linestyles=\"solid\")\n",
    "ax.contour(X, Y, z, 10, colors=\"k\", linestyles=\"solid\")\n",
    "ax.view_init(elev=0, azim=90)\n",
    "ax.plot(r_vals, r_vals*0, z_vals, 'r')\n",
    "ax.plot(-r_vals, r_vals*0, z_vals, 'r')\n",
    "plt.show()\n"
   ]
  },
  {
   "cell_type": "code",
   "execution_count": null,
   "id": "3dea7f14",
   "metadata": {
    "slideshow": {
     "slide_type": "fragment"
    }
   },
   "outputs": [],
   "source": []
  },
  {
   "cell_type": "code",
   "execution_count": null,
   "id": "c8d04e95",
   "metadata": {},
   "outputs": [],
   "source": [
    "\n"
   ]
  },
  {
   "cell_type": "code",
   "execution_count": null,
   "id": "090937b5",
   "metadata": {},
   "outputs": [],
   "source": []
  },
  {
   "cell_type": "code",
   "execution_count": null,
   "id": "5f9b0be9",
   "metadata": {},
   "outputs": [],
   "source": []
  },
  {
   "cell_type": "code",
   "execution_count": null,
   "id": "17c3e439",
   "metadata": {},
   "outputs": [],
   "source": []
  }
 ],
 "metadata": {
  "celltoolbar": "Slideshow",
  "kernelspec": {
   "display_name": "Python 3",
   "language": "python",
   "name": "python3"
  },
  "language_info": {
   "codemirror_mode": {
    "name": "ipython",
    "version": 3
   },
   "file_extension": ".py",
   "mimetype": "text/x-python",
   "name": "python",
   "nbconvert_exporter": "python",
   "pygments_lexer": "ipython3",
   "version": "3.8.8"
  }
 },
 "nbformat": 4,
 "nbformat_minor": 5
}
